{
 "cells": [
  {
   "cell_type": "code",
   "execution_count": 3,
   "id": "c1203dc1",
   "metadata": {},
   "outputs": [],
   "source": [
    "import pandas as pd"
   ]
  },
  {
   "cell_type": "code",
   "execution_count": 15,
   "id": "6663a3e8",
   "metadata": {},
   "outputs": [
    {
     "name": "stdout",
     "output_type": "stream",
     "text": [
      "   Үндсэн код                                           Нэр      Баар код  \\\n",
      "0      807074      Алимны нухаш Apfelmus 710гр /1х*12ш/ G&G  4.311502e+12   \n",
      "1      808001                Алчуур 3 өнгө*2ш  /1х*12ш/ G&G  4.311537e+12   \n",
      "2      808002   Алчуур шалны Bodentuch 50*55см /1х*14ш/ G&G  4.311537e+12   \n",
      "3      807015  Амтлагч Pesto alla genovese 190гр 1х*12ш G&G  4.311502e+12   \n",
      "4      807014          Амтлагч Pesto Rosso 190гр 1х*12ш G&G  4.311502e+12   \n",
      "\n",
      "         Бүлэг Хэмжих нэгж Идэвхтэй эсэх                            name  \\\n",
      "0  Герман Хүнс           ш             Y           Алимны нухаш Apfelmus   \n",
      "1  Герман ахуй           ш             Y                   Алчуур 3 өнгө   \n",
      "2  Герман ахуй           ш             Y  Алчуур шалны Bodentuch 50*55см   \n",
      "3  Герман Хүнс           ш             Y     Амтлагч Pesto alla genovese   \n",
      "4  Герман Хүнс           ш             Y             Амтлагч Pesto Rosso   \n",
      "\n",
      "     Жин unit  Хайрцаг дахь тоо Үйлдвэрлэсэн улс                       Зураг  \\\n",
      "0  710.0   гр              12.0           Герман   /static/images/807074.jpg   \n",
      "1    0.0    0              12.0           Герман   /static/images/808001.PNG   \n",
      "2    0.0    0              14.0           Герман   /static/images/808002.PNG   \n",
      "3  190.0   гр              12.0           Герман  /static/images/807015.JPEG   \n",
      "4  190.0   гр              12.0           Герман  /static/images/807014.JPEG   \n",
      "\n",
      "   Нийлүүлэгч  \n",
      "0  Safe Trade  \n",
      "1  Safe Trade  \n",
      "2  Safe Trade  \n",
      "3  Safe Trade  \n",
      "4  Safe Trade  \n"
     ]
    }
   ],
   "source": [
    "df=pd.read_excel('../../static/data/other/name.xlsx')\n",
    "print(df.head())"
   ]
  }
 ],
 "metadata": {
  "kernelspec": {
   "display_name": "venv_tae",
   "language": "python",
   "name": "python3"
  },
  "language_info": {
   "codemirror_mode": {
    "name": "ipython",
    "version": 3
   },
   "file_extension": ".py",
   "mimetype": "text/x-python",
   "name": "python",
   "nbconvert_exporter": "python",
   "pygments_lexer": "ipython3",
   "version": "3.13.0"
  }
 },
 "nbformat": 4,
 "nbformat_minor": 5
}
